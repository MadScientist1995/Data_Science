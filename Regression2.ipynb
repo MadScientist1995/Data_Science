{
 "cells": [
  {
   "cell_type": "code",
   "execution_count": 10,
   "id": "3ff3e2f8-64bc-48ad-85dd-84d8a64e9d9e",
   "metadata": {},
   "outputs": [],
   "source": [
    "import numpy as np\n",
    "import matplotlib.pyplot as plt\n",
    "import pandas as pd\n",
    "import statsmodels.api as sm"
   ]
  },
  {
   "cell_type": "code",
   "execution_count": 11,
   "id": "a33783d5-d1f9-4e66-817d-d3a95c9ba904",
   "metadata": {},
   "outputs": [
    {
     "data": {
      "text/html": [
       "<div>\n",
       "<style scoped>\n",
       "    .dataframe tbody tr th:only-of-type {\n",
       "        vertical-align: middle;\n",
       "    }\n",
       "\n",
       "    .dataframe tbody tr th {\n",
       "        vertical-align: top;\n",
       "    }\n",
       "\n",
       "    .dataframe thead th {\n",
       "        text-align: right;\n",
       "    }\n",
       "</style>\n",
       "<table border=\"1\" class=\"dataframe\">\n",
       "  <thead>\n",
       "    <tr style=\"text-align: right;\">\n",
       "      <th></th>\n",
       "      <th>1/Pavg(1/atm)</th>\n",
       "      <th>Kair(mD)</th>\n",
       "    </tr>\n",
       "  </thead>\n",
       "  <tbody>\n",
       "    <tr>\n",
       "      <th>0</th>\n",
       "      <td>0.662101</td>\n",
       "      <td>7.832344</td>\n",
       "    </tr>\n",
       "    <tr>\n",
       "      <th>1</th>\n",
       "      <td>0.625467</td>\n",
       "      <td>7.807376</td>\n",
       "    </tr>\n",
       "    <tr>\n",
       "      <th>2</th>\n",
       "      <td>0.590295</td>\n",
       "      <td>7.457245</td>\n",
       "    </tr>\n",
       "    <tr>\n",
       "      <th>3</th>\n",
       "      <td>0.557807</td>\n",
       "      <td>7.181183</td>\n",
       "    </tr>\n",
       "    <tr>\n",
       "      <th>4</th>\n",
       "      <td>0.539381</td>\n",
       "      <td>6.990729</td>\n",
       "    </tr>\n",
       "  </tbody>\n",
       "</table>\n",
       "</div>"
      ],
      "text/plain": [
       "   1/Pavg(1/atm)  Kair(mD)\n",
       "0       0.662101  7.832344\n",
       "1       0.625467  7.807376\n",
       "2       0.590295  7.457245\n",
       "3       0.557807  7.181183\n",
       "4       0.539381  6.990729"
      ]
     },
     "execution_count": 11,
     "metadata": {},
     "output_type": "execute_result"
    }
   ],
   "source": [
    "df = pd.read_csv(r\"C:\\Users\\nikol\\OneDrive\\Υπολογιστής\\Python\\Data Analysis with Python\\Week4\\Klinkenberg.csv\")\n",
    "df.head()"
   ]
  },
  {
   "cell_type": "code",
   "execution_count": 12,
   "id": "4e43c775-2323-44fe-bcba-d0d30145a266",
   "metadata": {},
   "outputs": [],
   "source": [
    "x1 = df[\"1/Pavg(1/atm)\"].to_numpy()\n",
    "y1 = df[\"Kair(mD)\"].to_numpy()"
   ]
  },
  {
   "cell_type": "code",
   "execution_count": 13,
   "id": "c8a071c5-99c4-42c6-9bb3-571e2508b4e5",
   "metadata": {},
   "outputs": [],
   "source": [
    "x1 = sm.add_constant(x1) # adding a constant\n",
    "model = sm.OLS(y1, x1).fit()\n",
    "yhat = model.predict(x1)"
   ]
  },
  {
   "cell_type": "code",
   "execution_count": 14,
   "id": "33be615b-4f13-4535-8218-48c7284fdb28",
   "metadata": {},
   "outputs": [
    {
     "data": {
      "text/plain": [
       "[<matplotlib.lines.Line2D at 0x152b09cff70>]"
      ]
     },
     "execution_count": 14,
     "metadata": {},
     "output_type": "execute_result"
    },
    {
     "data": {
      "image/png": "[encoded data removed]",
      "text/plain": [
       "<Figure size 864x432 with 1 Axes>"
      ]
     },
     "metadata": {
      "needs_background": "light"
     },
     "output_type": "display_data"
    }
   ],
   "source": [
    "x1 = df[\"1/Pavg(1/atm)\"].to_numpy()\n",
    "y1 = df[\"Kair(mD)\"].to_numpy()\n",
    "\n",
    "width = 12\n",
    "height = 6\n",
    "plt.figure(figsize=(width, height))\n",
    "plt.xlabel(\"1/Pavg(1/atm)\")\n",
    "plt.ylabel(\"Kair(mD)\")\n",
    "plt.scatter(x1,y1)\n",
    "plt.plot(x1,yhat)\n"
   ]
  },
  {
   "cell_type": "code",
   "execution_count": 15,
   "id": "e6d76eb0-7c4b-4d95-9a9b-93a3132893dd",
   "metadata": {},
   "outputs": [
    {
     "name": "stdout",
     "output_type": "stream",
     "text": [
      "                            OLS Regression Results                            \n",
      "==============================================================================\n",
      "Dep. Variable:                      y   R-squared:                       0.994\n",
      "Model:                            OLS   Adj. R-squared:                  0.994\n",
      "Method:                 Least Squares   F-statistic:                     5946.\n",
      "Date:                Wed, 27 Jul 2022   Prob (F-statistic):           1.42e-41\n",
      "Time:                        16:46:33   Log-Likelihood:                 51.915\n",
      "No. Observations:                  38   AIC:                            -99.83\n",
      "Df Residuals:                      36   BIC:                            -96.55\n",
      "Df Model:                           1                                         \n",
      "Covariance Type:            nonrobust                                         \n",
      "==============================================================================\n",
      "                 coef    std err          t      P>|t|      [0.025      0.975]\n",
      "------------------------------------------------------------------------------\n",
      "const          3.4350      0.035     98.777      0.000       3.364       3.505\n",
      "x1             6.6871      0.087     77.111      0.000       6.511       6.863\n",
      "==============================================================================\n",
      "Omnibus:                        2.655   Durbin-Watson:                   0.840\n",
      "Prob(Omnibus):                  0.265   Jarque-Bera (JB):                1.607\n",
      "Skew:                           0.211   Prob(JB):                        0.448\n",
      "Kurtosis:                       3.915   Cond. No.                         9.68\n",
      "==============================================================================\n",
      "\n",
      "Notes:\n",
      "[1] Standard Errors assume that the covariance matrix of the errors is correctly specified.\n"
     ]
    }
   ],
   "source": [
    "print_model = model.summary()\n",
    "print(print_model)"
   ]
  },
  {
   "cell_type": "code",
   "execution_count": 16,
   "id": "99326394-dae9-4bb9-9b3d-27d09fffa613",
   "metadata": {},
   "outputs": [
    {
     "name": "stdout",
     "output_type": "stream",
     "text": [
      "coefficient of determination: 0.9939820159578789\n"
     ]
    }
   ],
   "source": [
    "print(f\"coefficient of determination: {model.rsquared}\")"
   ]
  },
  {
   "cell_type": "code",
   "execution_count": 17,
   "id": "1876a54d-8e0c-4851-88d2-37123a6bc809",
   "metadata": {},
   "outputs": [
    {
     "name": "stdout",
     "output_type": "stream",
     "text": [
      "adjusted coefficient of determination: 0.9938148497344866\n"
     ]
    }
   ],
   "source": [
    "print(f\"adjusted coefficient of determination: {model.rsquared_adj}\")"
   ]
  },
  {
   "cell_type": "code",
   "execution_count": 18,
   "id": "116b2830-a66a-42e5-be77-a01680a8c863",
   "metadata": {},
   "outputs": [
    {
     "name": "stdout",
     "output_type": "stream",
     "text": [
      "regression coefficients: [3.43496226 6.68714145]\n"
     ]
    }
   ],
   "source": [
    "print(f\"regression coefficients: {model.params}\")"
   ]
  },
  {
   "cell_type": "code",
   "execution_count": null,
   "id": "ab689585-8ace-4a05-ac66-57ca3c83b8d1",
   "metadata": {},
   "outputs": [],
   "source": []
  }
 ],
 "metadata": {
  "kernelspec": {
   "display_name": "Python 3 (ipykernel)",
   "language": "python",
   "name": "python3"
  },
  "language_info": {
   "codemirror_mode": {
    "name": "ipython",
    "version": 3
   },
   "file_extension": ".py",
   "mimetype": "text/x-python",
   "name": "python",
   "nbconvert_exporter": "python",
   "pygments_lexer": "ipython3",
   "version": "3.9.12"
  },
  "toc-showmarkdowntxt": false
 },
 "nbformat": 4,
 "nbformat_minor": 5
}
