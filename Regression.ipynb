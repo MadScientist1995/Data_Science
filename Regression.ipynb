{
 "cells": [
  {
   "cell_type": "code",
   "execution_count": 1,
   "id": "506d8917-c389-43ef-9c76-7ef886c0ef46",
   "metadata": {},
   "outputs": [],
   "source": [
    "import numpy as np\n",
    "import matplotlib.pyplot as plt\n",
    "import pandas as pd"
   ]
  },
  {
   "cell_type": "code",
   "execution_count": 2,
   "id": "21324d42-b465-4cae-a53a-e167b6c80f5b",
   "metadata": {},
   "outputs": [
    {
     "data": {
      "text/html": [
       "<div>\n",
       "<style scoped>\n",
       "    .dataframe tbody tr th:only-of-type {\n",
       "        vertical-align: middle;\n",
       "    }\n",
       "\n",
       "    .dataframe tbody tr th {\n",
       "        vertical-align: top;\n",
       "    }\n",
       "\n",
       "    .dataframe thead th {\n",
       "        text-align: right;\n",
       "    }\n",
       "</style>\n",
       "<table border=\"1\" class=\"dataframe\">\n",
       "  <thead>\n",
       "    <tr style=\"text-align: right;\">\n",
       "      <th></th>\n",
       "      <th>kair(mD)</th>\n",
       "      <th>1/Pavg(1/atm)</th>\n",
       "    </tr>\n",
       "  </thead>\n",
       "  <tbody>\n",
       "    <tr>\n",
       "      <th>0</th>\n",
       "      <td>79.313437</td>\n",
       "      <td>0.844791</td>\n",
       "    </tr>\n",
       "    <tr>\n",
       "      <th>1</th>\n",
       "      <td>78.934283</td>\n",
       "      <td>0.816625</td>\n",
       "    </tr>\n",
       "    <tr>\n",
       "      <th>2</th>\n",
       "      <td>77.641023</td>\n",
       "      <td>0.796703</td>\n",
       "    </tr>\n",
       "    <tr>\n",
       "      <th>3</th>\n",
       "      <td>77.059404</td>\n",
       "      <td>0.777730</td>\n",
       "    </tr>\n",
       "    <tr>\n",
       "      <th>4</th>\n",
       "      <td>75.620089</td>\n",
       "      <td>0.755733</td>\n",
       "    </tr>\n",
       "  </tbody>\n",
       "</table>\n",
       "</div>"
      ],
      "text/plain": [
       "    kair(mD)  1/Pavg(1/atm)\n",
       "0  79.313437       0.844791\n",
       "1  78.934283       0.816625\n",
       "2  77.641023       0.796703\n",
       "3  77.059404       0.777730\n",
       "4  75.620089       0.755733"
      ]
     },
     "execution_count": 2,
     "metadata": {},
     "output_type": "execute_result"
    }
   ],
   "source": [
    "df2 = pd.read_csv(r\"C:\\Users\\nikol\\OneDrive\\Υπολογιστής\\Python\\Data Analysis with Python\\statsmodels\\second order slip equation.csv\")\n",
    "df2.head()"
   ]
  },
  {
   "cell_type": "code",
   "execution_count": 3,
   "id": "b9405242-ee31-4477-b3b3-18c1dd3d5530",
   "metadata": {},
   "outputs": [],
   "source": [
    "#Create single dimension\n",
    "x2 = df2[\"1/Pavg(1/atm)\"]\n",
    "y2 = df2[\"kair(mD)\"]"
   ]
  },
  {
   "cell_type": "code",
   "execution_count": 4,
   "id": "42651843-72f5-49f1-b37d-7b6ebf0ffb65",
   "metadata": {},
   "outputs": [
    {
     "data": {
      "text/plain": [
       "0     0.844791\n",
       "1     0.816625\n",
       "2     0.796703\n",
       "3     0.777730\n",
       "4     0.755733\n",
       "5     0.740501\n",
       "6     0.722303\n",
       "7     0.708377\n",
       "8     0.869791\n",
       "9     0.854617\n",
       "10    0.842370\n",
       "11    0.832823\n",
       "12    0.828130\n",
       "13    0.818901\n",
       "14    0.812113\n",
       "15    0.805436\n",
       "16    0.798869\n",
       "17    0.790277\n",
       "18    0.783953\n",
       "19    0.781868\n",
       "20    0.779794\n",
       "21    0.775678\n",
       "22    0.771605\n",
       "23    0.765576\n",
       "24    0.761608\n",
       "25    0.759640\n",
       "26    0.757681\n",
       "27    0.753795\n",
       "28    0.748040\n",
       "29    0.744251\n",
       "30    0.736789\n",
       "31    0.731289\n",
       "32    0.725871\n",
       "33    0.720533\n",
       "34    0.715272\n",
       "35    0.706674\n",
       "Name: 1/Pavg(1/atm), dtype: float64"
      ]
     },
     "execution_count": 4,
     "metadata": {},
     "output_type": "execute_result"
    }
   ],
   "source": [
    "x2"
   ]
  },
  {
   "cell_type": "code",
   "execution_count": 5,
   "id": "f86cba61-8768-4855-aaa2-37670151c2e3",
   "metadata": {},
   "outputs": [],
   "source": [
    "inds = x2.ravel().argsort()  # Sort x values and get index    \n",
    "x2 = x2.ravel()[inds].reshape(-1,1)\n",
    "y2 = y2[inds] #Sort y according to x sorted index"
   ]
  },
  {
   "cell_type": "code",
   "execution_count": 6,
   "id": "9cb1540a-d501-4bb3-be6f-e9c949a51064",
   "metadata": {},
   "outputs": [
    {
     "data": {
      "text/plain": [
       "array([[0.70667366],\n",
       "       [0.70837682],\n",
       "       [0.71527236],\n",
       "       [0.72053276],\n",
       "       [0.72230346],\n",
       "       [0.7258711 ],\n",
       "       [0.73128914],\n",
       "       [0.73678868],\n",
       "       [0.74050121],\n",
       "       [0.74425136],\n",
       "       [0.74803968],\n",
       "       [0.75379502],\n",
       "       [0.7557332 ],\n",
       "       [0.75768137],\n",
       "       [0.75963962],\n",
       "       [0.76160801],\n",
       "       [0.76557555],\n",
       "       [0.77160499],\n",
       "       [0.77567765],\n",
       "       [0.77773015],\n",
       "       [0.77979354],\n",
       "       [0.78186791],\n",
       "       [0.78395334],\n",
       "       [0.79027692],\n",
       "       [0.79670334],\n",
       "       [0.79886878],\n",
       "       [0.80543628],\n",
       "       [0.81211266],\n",
       "       [0.81662541],\n",
       "       [0.81890065],\n",
       "       [0.8281298 ],\n",
       "       [0.83282283],\n",
       "       [0.8423703 ],\n",
       "       [0.84479146],\n",
       "       [0.85461693],\n",
       "       [0.86979128]])"
      ]
     },
     "execution_count": 6,
     "metadata": {},
     "output_type": "execute_result"
    }
   ],
   "source": [
    "x2"
   ]
  },
  {
   "cell_type": "code",
   "execution_count": 13,
   "id": "983a77b5-7b31-4c45-8433-439452607a14",
   "metadata": {},
   "outputs": [],
   "source": [
    "from sklearn.preprocessing import PolynomialFeatures\n",
    "\n",
    "polynomial_features = PolynomialFeatures(2)\n",
    "xp2 = polynomial_features.fit_transform(x2)"
   ]
  },
  {
   "cell_type": "code",
   "execution_count": 14,
   "id": "60bf3d76-99a2-4caf-84cd-60d9fbef1241",
   "metadata": {},
   "outputs": [
    {
     "data": {
      "image/png": "[encoded data removed]",
      "text/plain": [
       "<Figure size 720x576 with 1 Axes>"
      ]
     },
     "metadata": {
      "needs_background": "light"
     },
     "output_type": "display_data"
    }
   ],
   "source": [
    "import statsmodels.api as sm\n",
    "\n",
    "model = sm.OLS(y2, xp2).fit()\n",
    "ypred2 = model.predict(xp2) \n",
    "\n",
    "width = 10\n",
    "height = 8\n",
    "plt.figure(figsize=(width, height))\n",
    "plt.scatter(x2, y2, label=\"experimental data\")\n",
    "plt.plot(x2, ypred2, label=\"trend line\")\n",
    "\n",
    "plt.xlabel(\"1/Pavg(1/atm)\")\n",
    "plt.ylabel(\"Kair(mD)\")\n",
    "plt.legend();"
   ]
  },
  {
   "cell_type": "code",
   "execution_count": 15,
   "id": "3bd15f2a-6dfa-4d27-8a36-203e66678d7e",
   "metadata": {},
   "outputs": [
    {
     "name": "stdout",
     "output_type": "stream",
     "text": [
      "        2\n",
      "-45.81 x + 113 x + 16.92\n"
     ]
    }
   ],
   "source": [
    "f = np.polyfit(df2[\"1/Pavg(1/atm)\"], df2[\"kair(mD)\"],2)\n",
    "p = np.poly1d(f)\n",
    "print(p)"
   ]
  },
  {
   "cell_type": "code",
   "execution_count": 16,
   "id": "5adc8128-6390-4a36-a304-cc6a8a11c4e4",
   "metadata": {},
   "outputs": [
    {
     "name": "stdout",
     "output_type": "stream",
     "text": [
      "                            OLS Regression Results                            \n",
      "==============================================================================\n",
      "Dep. Variable:               kair(mD)   R-squared:                       0.951\n",
      "Model:                            OLS   Adj. R-squared:                  0.948\n",
      "Method:                 Least Squares   F-statistic:                     320.4\n",
      "Date:                Tue, 26 Jul 2022   Prob (F-statistic):           2.43e-22\n",
      "Time:                        22:20:35   Log-Likelihood:                -18.475\n",
      "No. Observations:                  36   AIC:                             42.95\n",
      "Df Residuals:                      33   BIC:                             47.70\n",
      "Df Model:                           2                                         \n",
      "Covariance Type:            nonrobust                                         \n",
      "==============================================================================\n",
      "                 coef    std err          t      P>|t|      [0.025      0.975]\n",
      "------------------------------------------------------------------------------\n",
      "const         16.9162     21.859      0.774      0.445     -27.556      61.388\n",
      "x1           112.9543     55.959      2.019      0.052      -0.894     226.803\n",
      "x2           -45.8059     35.732     -1.282      0.209    -118.503      26.891\n",
      "==============================================================================\n",
      "Omnibus:                        0.436   Durbin-Watson:                   1.406\n",
      "Prob(Omnibus):                  0.804   Jarque-Bera (JB):                0.586\n",
      "Skew:                           0.139   Prob(JB):                        0.746\n",
      "Kurtosis:                       2.441   Cond. No.                     1.39e+03\n",
      "==============================================================================\n",
      "\n",
      "Notes:\n",
      "[1] Standard Errors assume that the covariance matrix of the errors is correctly specified.\n",
      "[2] The condition number is large, 1.39e+03. This might indicate that there are\n",
      "strong multicollinearity or other numerical problems.\n"
     ]
    }
   ],
   "source": [
    "print_model = model.summary()\n",
    "print(print_model)"
   ]
  },
  {
   "cell_type": "markdown",
   "id": "ee012d56-804d-4bce-914a-aa42c343ca36",
   "metadata": {
    "tags": []
   },
   "source": [
    "<h4>An estimation of the variance of y:</h4>"
   ]
  },
  {
   "cell_type": "code",
   "execution_count": 11,
   "id": "32876a80-ea31-49f7-aa20-b274b2357d9e",
   "metadata": {},
   "outputs": [
    {
     "data": {
      "text/plain": [
       "0.23867849179475248"
      ]
     },
     "execution_count": 11,
     "metadata": {},
     "output_type": "execute_result"
    }
   ],
   "source": [
    "model.scale"
   ]
  },
  {
   "cell_type": "markdown",
   "id": "d72d56d5-8adb-4bdd-9fe9-8c047737866c",
   "metadata": {
    "tags": []
   },
   "source": [
    "<h4>The standard error for the y estimate:</h4>"
   ]
  },
  {
   "cell_type": "code",
   "execution_count": 12,
   "id": "a2c1972a-0723-4310-bca0-325d46075e6c",
   "metadata": {},
   "outputs": [
    {
     "data": {
      "text/plain": [
       "0.4885473281011293"
      ]
     },
     "execution_count": 12,
     "metadata": {},
     "output_type": "execute_result"
    }
   ],
   "source": [
    "np.sqrt(model.scale)"
   ]
  }
 ],
 "metadata": {
  "kernelspec": {
   "display_name": "Python 3 (ipykernel)",
   "language": "python",
   "name": "python3"
  },
  "language_info": {
   "codemirror_mode": {
    "name": "ipython",
    "version": 3
   },
   "file_extension": ".py",
   "mimetype": "text/x-python",
   "name": "python",
   "nbconvert_exporter": "python",
   "pygments_lexer": "ipython3",
   "version": "3.9.12"
  }
 },
 "nbformat": 4,
 "nbformat_minor": 5
}
