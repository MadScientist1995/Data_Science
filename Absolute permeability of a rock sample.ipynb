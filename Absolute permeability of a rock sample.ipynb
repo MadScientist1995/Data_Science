{
 "cells": [
  {
   "cell_type": "markdown",
   "id": "e3dac83f-cb99-4197-948a-30c3568fe541",
   "metadata": {
    "tags": []
   },
   "source": [
    "<center> <b> <h1> Absolute permeability of a rock sample </h1> </b> </center>"
   ]
  },
  {
   "cell_type": "markdown",
   "id": "3e73dd55-67db-4e3c-8663-a2c612364955",
   "metadata": {},
   "source": [
    "<h2> 1. Klinkenberg corrected permeability </h2>"
   ]
  },
  {
   "cell_type": "markdown",
   "id": "163a23b3-1fe2-4a62-9c94-25ee2230860f",
   "metadata": {},
   "source": [
    "#### A flow rate of air fully saturated the porous media of Berea sandstone, under 150 bar of overburden pressure. The data of the experiment will be tested first at Klinkenberg equation."
   ]
  },
  {
   "cell_type": "markdown",
   "id": "89cad50e-3d9c-4e33-903e-bbaef4b9ba0a",
   "metadata": {
    "tags": []
   },
   "source": [
    "$$ K_{air}=K_l\\left(1+\\frac{b}{P_{avg}}\\right) $$"
   ]
  },
  {
   "cell_type": "markdown",
   "id": "dd0acb43-23d2-4040-af71-7d78ec4ad773",
   "metadata": {},
   "source": [
    "#### From the equations below, the permeability of the air ($K_{air}$) and the reciprocal of the average pressure $1/P_{avg}$ will be calculated."
   ]
  },
  {
   "cell_type": "markdown",
   "id": "b659d0a6-e967-43ba-8191-088a6867cb2f",
   "metadata": {},
   "source": [
    "$$ Q_2=\\frac{K_{air}A}{2{\\mu }_{air}l}\\frac{({P_1}^2-{P_2}^2)}{P_2} $$\n",
    "\n",
    "$$ P_{avg}=\\frac{P_1+P_2}{2} $$"
   ]
  },
  {
   "cell_type": "markdown",
   "id": "4cd3b403-09f3-4e82-9094-86e8143f85ad",
   "metadata": {},
   "source": [
    "#### The five first values of the table will be displayed. The data had been imported from a CSV Excel file."
   ]
  },
  {
   "cell_type": "code",
   "execution_count": 1,
   "id": "c9bc9fd7-daf3-4648-ac84-fc2c24a9031e",
   "metadata": {},
   "outputs": [
    {
     "data": {
      "text/html": [
       "<div>\n",
       "<style scoped>\n",
       "    .dataframe tbody tr th:only-of-type {\n",
       "        vertical-align: middle;\n",
       "    }\n",
       "\n",
       "    .dataframe tbody tr th {\n",
       "        vertical-align: top;\n",
       "    }\n",
       "\n",
       "    .dataframe thead th {\n",
       "        text-align: right;\n",
       "    }\n",
       "</style>\n",
       "<table border=\"1\" class=\"dataframe\">\n",
       "  <thead>\n",
       "    <tr style=\"text-align: right;\">\n",
       "      <th></th>\n",
       "      <th>DP(psia)</th>\n",
       "      <th>Q(ml/min)</th>\n",
       "    </tr>\n",
       "  </thead>\n",
       "  <tbody>\n",
       "    <tr>\n",
       "      <th>0</th>\n",
       "      <td>15.0</td>\n",
       "      <td>42</td>\n",
       "    </tr>\n",
       "    <tr>\n",
       "      <th>1</th>\n",
       "      <td>17.6</td>\n",
       "      <td>52</td>\n",
       "    </tr>\n",
       "    <tr>\n",
       "      <th>2</th>\n",
       "      <td>20.4</td>\n",
       "      <td>61</td>\n",
       "    </tr>\n",
       "    <tr>\n",
       "      <th>3</th>\n",
       "      <td>23.3</td>\n",
       "      <td>71</td>\n",
       "    </tr>\n",
       "    <tr>\n",
       "      <th>4</th>\n",
       "      <td>25.1</td>\n",
       "      <td>77</td>\n",
       "    </tr>\n",
       "  </tbody>\n",
       "</table>\n",
       "</div>"
      ],
      "text/plain": [
       "   DP(psia)  Q(ml/min)\n",
       "0      15.0         42\n",
       "1      17.6         52\n",
       "2      20.4         61\n",
       "3      23.3         71\n",
       "4      25.1         77"
      ]
     },
     "execution_count": 1,
     "metadata": {},
     "output_type": "execute_result"
    }
   ],
   "source": [
    "import pandas as pd\n",
    "\n",
    "df = pd.read_csv(r\"C:\\Users\\nikol\\Desktop\\Python\\statsmodels\\Klinkenberg1.csv\")\n",
    "df.head()"
   ]
  },
  {
   "cell_type": "code",
   "execution_count": 2,
   "id": "6fe166aa-71ce-4644-8956-e256675908f2",
   "metadata": {},
   "outputs": [
    {
     "data": {
      "text/html": [
       "<div>\n",
       "<style scoped>\n",
       "    .dataframe tbody tr th:only-of-type {\n",
       "        vertical-align: middle;\n",
       "    }\n",
       "\n",
       "    .dataframe tbody tr th {\n",
       "        vertical-align: top;\n",
       "    }\n",
       "\n",
       "    .dataframe thead th {\n",
       "        text-align: right;\n",
       "    }\n",
       "</style>\n",
       "<table border=\"1\" class=\"dataframe\">\n",
       "  <thead>\n",
       "    <tr style=\"text-align: right;\">\n",
       "      <th></th>\n",
       "      <th>DP(psia)</th>\n",
       "      <th>Q(ml/min)</th>\n",
       "      <th>Q(ml/sec)</th>\n",
       "      <th>P1(atm)</th>\n",
       "      <th>1/Pavg(1/atm)</th>\n",
       "      <th>Kair(mD)</th>\n",
       "    </tr>\n",
       "  </thead>\n",
       "  <tbody>\n",
       "    <tr>\n",
       "      <th>0</th>\n",
       "      <td>15.0</td>\n",
       "      <td>42</td>\n",
       "      <td>0.700000</td>\n",
       "      <td>2.020689</td>\n",
       "      <td>0.662101</td>\n",
       "      <td>7.832344</td>\n",
       "    </tr>\n",
       "    <tr>\n",
       "      <th>1</th>\n",
       "      <td>17.6</td>\n",
       "      <td>52</td>\n",
       "      <td>0.866667</td>\n",
       "      <td>2.197609</td>\n",
       "      <td>0.625467</td>\n",
       "      <td>7.807376</td>\n",
       "    </tr>\n",
       "    <tr>\n",
       "      <th>2</th>\n",
       "      <td>20.4</td>\n",
       "      <td>61</td>\n",
       "      <td>1.016667</td>\n",
       "      <td>2.388138</td>\n",
       "      <td>0.590295</td>\n",
       "      <td>7.457245</td>\n",
       "    </tr>\n",
       "    <tr>\n",
       "      <th>3</th>\n",
       "      <td>23.3</td>\n",
       "      <td>71</td>\n",
       "      <td>1.183333</td>\n",
       "      <td>2.585471</td>\n",
       "      <td>0.557807</td>\n",
       "      <td>7.181183</td>\n",
       "    </tr>\n",
       "    <tr>\n",
       "      <th>4</th>\n",
       "      <td>25.1</td>\n",
       "      <td>77</td>\n",
       "      <td>1.283333</td>\n",
       "      <td>2.707954</td>\n",
       "      <td>0.539381</td>\n",
       "      <td>6.990729</td>\n",
       "    </tr>\n",
       "  </tbody>\n",
       "</table>\n",
       "</div>"
      ],
      "text/plain": [
       "   DP(psia)  Q(ml/min)  Q(ml/sec)   P1(atm)  1/Pavg(1/atm)  Kair(mD)\n",
       "0      15.0         42   0.700000  2.020689       0.662101  7.832344\n",
       "1      17.6         52   0.866667  2.197609       0.625467  7.807376\n",
       "2      20.4         61   1.016667  2.388138       0.590295  7.457245\n",
       "3      23.3         71   1.183333  2.585471       0.557807  7.181183\n",
       "4      25.1         77   1.283333  2.707954       0.539381  6.990729"
      ]
     },
     "execution_count": 2,
     "metadata": {},
     "output_type": "execute_result"
    }
   ],
   "source": [
    "import math \n",
    "\n",
    "df[\"Q(ml/sec)\"] = df[\"Q(ml/min)\"] / 60\n",
    "df[\"P1(atm)\"] = df[\"DP(psia)\"] * 0.068045957064302 + 1\n",
    "df[\"1/Pavg(1/atm)\"] = 2 / (df[\"P1(atm)\"] + 1)\n",
    "df[\"Kair(mD)\"] = (2000 * df[\"Q(ml/sec)\"] * 0.01844 * 1 * 4.751) / (math.pi * 2.543 ** 2 / 4 * (df[\"P1(atm)\"] ** 2 - 1 ** 2))\n",
    "\n",
    "df.to_csv(\"Klinkenberg2.csv\", index=False)\n",
    "df.head()"
   ]
  },
  {
   "cell_type": "markdown",
   "id": "12f7ab54-cf1f-4513-bd84-0d6b3a38e027",
   "metadata": {},
   "source": [
    "#### It is evident, that the Klinkenberg equation fits a linear regression model for the data."
   ]
  },
  {
   "cell_type": "code",
   "execution_count": 3,
   "id": "4e43c775-2323-44fe-bcba-d0d30145a266",
   "metadata": {},
   "outputs": [],
   "source": [
    "x1 = df[\"1/Pavg(1/atm)\"]\n",
    "y1 = df[\"Kair(mD)\"]"
   ]
  },
  {
   "cell_type": "code",
   "execution_count": 4,
   "id": "c8a071c5-99c4-42c6-9bb3-571e2508b4e5",
   "metadata": {},
   "outputs": [],
   "source": [
    "import statsmodels.api as sm\n",
    "\n",
    "x1 = sm.add_constant(x1)\n",
    "model1 = sm.OLS(y1, x1).fit()\n",
    "yhat = model1.predict(x1)"
   ]
  },
  {
   "cell_type": "code",
   "execution_count": 5,
   "id": "33be615b-4f13-4535-8218-48c7284fdb28",
   "metadata": {},
   "outputs": [
    {
     "data": {
      "image/png": "[encoded data removed]",
      "text/plain": [
       "<Figure size 1000x600 with 1 Axes>"
      ]
     },
     "metadata": {},
     "output_type": "display_data"
    }
   ],
   "source": [
    "import matplotlib.pyplot as plt\n",
    "import seaborn as sb\n",
    "\n",
    "sb.set_style('whitegrid')\n",
    "width = 10\n",
    "height = 6\n",
    "plt.figure(figsize=(width, height))\n",
    "plt.xlabel(\"$1/P_{avg}(1/atm)$\", fontsize = 10)\n",
    "plt.ylabel(\"$K_{air}(mD)$\", fontsize = 10)\n",
    "plt.title(\"Air permeability under 150 bar of overburden pressure\", fontsize = 12)\n",
    "\n",
    "plt.scatter(df[\"1/Pavg(1/atm)\"], df[\"Kair(mD)\"], label=\"experimental data\")\n",
    "plt.plot(df[\"1/Pavg(1/atm)\"], yhat, label=\"trend line\")\n",
    "plt.legend();"
   ]
  },
  {
   "cell_type": "code",
   "execution_count": 6,
   "id": "c0fd24d5-73db-4439-810d-c5e0c2400aea",
   "metadata": {},
   "outputs": [
    {
     "name": "stdout",
     "output_type": "stream",
     "text": [
      "The linear regression estimator y is  \n",
      "6.687 x + 3.435\n"
     ]
    }
   ],
   "source": [
    "import numpy as np\n",
    "\n",
    "f = np.polyfit(df[\"1/Pavg(1/atm)\"], df[\"Kair(mD)\"], 1)\n",
    "p = np.poly1d(f)\n",
    "print(\"The linear regression estimator y is\", p)"
   ]
  },
  {
   "cell_type": "code",
   "execution_count": 7,
   "id": "3052efd4-ffed-4dbe-9fda-866933ef1a49",
   "metadata": {},
   "outputs": [
    {
     "name": "stdout",
     "output_type": "stream",
     "text": [
      "                            OLS Regression Results                            \n",
      "==============================================================================\n",
      "Dep. Variable:               Kair(mD)   R-squared:                       0.994\n",
      "Model:                            OLS   Adj. R-squared:                  0.994\n",
      "Method:                 Least Squares   F-statistic:                     5946.\n",
      "Date:                Wed, 07 Sep 2022   Prob (F-statistic):           1.42e-41\n",
      "Time:                        12:40:26   Log-Likelihood:                 51.915\n",
      "No. Observations:                  38   AIC:                            -99.83\n",
      "Df Residuals:                      36   BIC:                            -96.55\n",
      "Df Model:                           1                                         \n",
      "Covariance Type:            nonrobust                                         \n",
      "=================================================================================\n",
      "                    coef    std err          t      P>|t|      [0.025      0.975]\n",
      "---------------------------------------------------------------------------------\n",
      "const             3.4350      0.035     98.777      0.000       3.364       3.505\n",
      "1/Pavg(1/atm)     6.6871      0.087     77.111      0.000       6.511       6.863\n",
      "==============================================================================\n",
      "Omnibus:                        2.655   Durbin-Watson:                   0.840\n",
      "Prob(Omnibus):                  0.265   Jarque-Bera (JB):                1.607\n",
      "Skew:                           0.211   Prob(JB):                        0.448\n",
      "Kurtosis:                       3.915   Cond. No.                         9.68\n",
      "==============================================================================\n",
      "\n",
      "Notes:\n",
      "[1] Standard Errors assume that the covariance matrix of the errors is correctly specified.\n"
     ]
    }
   ],
   "source": [
    "print_model = model1.summary()\n",
    "print(print_model)"
   ]
  },
  {
   "cell_type": "markdown",
   "id": "d86c41c2-32a5-4e1a-ba30-ff027c73cd23",
   "metadata": {},
   "source": [
    "#### The R-squared coefficient approximates the value of 1. That substantiates that the trend line fits the data well. The adjacent R-squared is the same because the regression is linear."
   ]
  },
  {
   "cell_type": "markdown",
   "id": "7ccf22ea-3d3a-45be-a7b9-46571ea22d46",
   "metadata": {},
   "source": [
    "#### $${\\boldsymbol{K}}_{\\boldsymbol{l}}\\boldsymbol{=}{\\boldsymbol{3},\\boldsymbol{43}}^{\\boldsymbol{\\ +}}_{\\boldsymbol{\\ -}}\\boldsymbol{\\ }\\boldsymbol{0},\\boldsymbol{03}\\boldsymbol{\\ }\\boldsymbol{mD}$$"
   ]
  },
  {
   "cell_type": "markdown",
   "id": "f08e5dfe-728b-4428-8387-48f3f196e124",
   "metadata": {},
   "source": [
    "#### A data frame of experimental data will be used under 150 bar of overburden pressure."
   ]
  },
  {
   "cell_type": "code",
   "execution_count": 8,
   "id": "fe377f10-f1dd-4ff9-b246-07cac16dd0c1",
   "metadata": {},
   "outputs": [
    {
     "data": {
      "text/html": [
       "<div>\n",
       "<style scoped>\n",
       "    .dataframe tbody tr th:only-of-type {\n",
       "        vertical-align: middle;\n",
       "    }\n",
       "\n",
       "    .dataframe tbody tr th {\n",
       "        vertical-align: top;\n",
       "    }\n",
       "\n",
       "    .dataframe thead th {\n",
       "        text-align: right;\n",
       "    }\n",
       "</style>\n",
       "<table border=\"1\" class=\"dataframe\">\n",
       "  <thead>\n",
       "    <tr style=\"text-align: right;\">\n",
       "      <th></th>\n",
       "      <th>DP(psia)</th>\n",
       "      <th>Q(ml/min)</th>\n",
       "    </tr>\n",
       "  </thead>\n",
       "  <tbody>\n",
       "    <tr>\n",
       "      <th>0</th>\n",
       "      <td>5.4</td>\n",
       "      <td>120.0</td>\n",
       "    </tr>\n",
       "    <tr>\n",
       "      <th>1</th>\n",
       "      <td>6.6</td>\n",
       "      <td>151.0</td>\n",
       "    </tr>\n",
       "    <tr>\n",
       "      <th>2</th>\n",
       "      <td>7.5</td>\n",
       "      <td>173.0</td>\n",
       "    </tr>\n",
       "    <tr>\n",
       "      <th>3</th>\n",
       "      <td>8.4</td>\n",
       "      <td>197.0</td>\n",
       "    </tr>\n",
       "    <tr>\n",
       "      <th>4</th>\n",
       "      <td>9.5</td>\n",
       "      <td>225.0</td>\n",
       "    </tr>\n",
       "  </tbody>\n",
       "</table>\n",
       "</div>"
      ],
      "text/plain": [
       "   DP(psia)  Q(ml/min)\n",
       "0       5.4      120.0\n",
       "1       6.6      151.0\n",
       "2       7.5      173.0\n",
       "3       8.4      197.0\n",
       "4       9.5      225.0"
      ]
     },
     "execution_count": 8,
     "metadata": {},
     "output_type": "execute_result"
    }
   ],
   "source": [
    "df2 = pd.read_csv(r\"C:\\Users\\nikol\\Desktop\\Python\\statsmodels\\second order slip equation1.csv\")\n",
    "df2.head()"
   ]
  },
  {
   "cell_type": "code",
   "execution_count": 9,
   "id": "19674159-67c2-47c8-8c6a-36801eadb958",
   "metadata": {},
   "outputs": [
    {
     "data": {
      "text/html": [
       "<div>\n",
       "<style scoped>\n",
       "    .dataframe tbody tr th:only-of-type {\n",
       "        vertical-align: middle;\n",
       "    }\n",
       "\n",
       "    .dataframe tbody tr th {\n",
       "        vertical-align: top;\n",
       "    }\n",
       "\n",
       "    .dataframe thead th {\n",
       "        text-align: right;\n",
       "    }\n",
       "</style>\n",
       "<table border=\"1\" class=\"dataframe\">\n",
       "  <thead>\n",
       "    <tr style=\"text-align: right;\">\n",
       "      <th></th>\n",
       "      <th>DP(psia)</th>\n",
       "      <th>Q(ml/min)</th>\n",
       "      <th>Q(ml/sec)</th>\n",
       "      <th>P1(atm)</th>\n",
       "      <th>1/Pavg(1/atm)</th>\n",
       "      <th>Kair(mD)</th>\n",
       "    </tr>\n",
       "  </thead>\n",
       "  <tbody>\n",
       "    <tr>\n",
       "      <th>0</th>\n",
       "      <td>5.4</td>\n",
       "      <td>120.0</td>\n",
       "      <td>2.000000</td>\n",
       "      <td>1.367448</td>\n",
       "      <td>0.844791</td>\n",
       "      <td>79.313437</td>\n",
       "    </tr>\n",
       "    <tr>\n",
       "      <th>1</th>\n",
       "      <td>6.6</td>\n",
       "      <td>151.0</td>\n",
       "      <td>2.516667</td>\n",
       "      <td>1.449103</td>\n",
       "      <td>0.816625</td>\n",
       "      <td>78.934283</td>\n",
       "    </tr>\n",
       "    <tr>\n",
       "      <th>2</th>\n",
       "      <td>7.5</td>\n",
       "      <td>173.0</td>\n",
       "      <td>2.883333</td>\n",
       "      <td>1.510345</td>\n",
       "      <td>0.796703</td>\n",
       "      <td>77.641023</td>\n",
       "    </tr>\n",
       "    <tr>\n",
       "      <th>3</th>\n",
       "      <td>8.4</td>\n",
       "      <td>197.0</td>\n",
       "      <td>3.283333</td>\n",
       "      <td>1.571586</td>\n",
       "      <td>0.777730</td>\n",
       "      <td>77.059404</td>\n",
       "    </tr>\n",
       "    <tr>\n",
       "      <th>4</th>\n",
       "      <td>9.5</td>\n",
       "      <td>225.0</td>\n",
       "      <td>3.750000</td>\n",
       "      <td>1.646437</td>\n",
       "      <td>0.755733</td>\n",
       "      <td>75.620089</td>\n",
       "    </tr>\n",
       "  </tbody>\n",
       "</table>\n",
       "</div>"
      ],
      "text/plain": [
       "   DP(psia)  Q(ml/min)  Q(ml/sec)   P1(atm)  1/Pavg(1/atm)   Kair(mD)\n",
       "0       5.4      120.0   2.000000  1.367448       0.844791  79.313437\n",
       "1       6.6      151.0   2.516667  1.449103       0.816625  78.934283\n",
       "2       7.5      173.0   2.883333  1.510345       0.796703  77.641023\n",
       "3       8.4      197.0   3.283333  1.571586       0.777730  77.059404\n",
       "4       9.5      225.0   3.750000  1.646437       0.755733  75.620089"
      ]
     },
     "execution_count": 9,
     "metadata": {},
     "output_type": "execute_result"
    }
   ],
   "source": [
    "df2[\"Q(ml/sec)\"] = df2[\"Q(ml/min)\"] / 60\n",
    "df2[\"P1(atm)\"] = df2[\"DP(psia)\"] * 0.068045957064302 + 1\n",
    "df2[\"1/Pavg(1/atm)\"] = 2 / (df2[\"P1(atm)\"] + 1)\n",
    "df2[\"Kair(mD)\"] = (2000 * df2[\"Q(ml/sec)\"] * 0.01844 * 1 * 4.751) / (math.pi * 2.543 ** 2 / 4 * (df2[\"P1(atm)\"] ** 2 - 1 ** 2))\n",
    "\n",
    "df2.to_csv(\"second order slip equation2.csv\", index=False)\n",
    "df2.head()"
   ]
  },
  {
   "cell_type": "markdown",
   "id": "f5b5366f-6859-440a-a126-b2aeb999c12d",
   "metadata": {},
   "source": [
    "<li><b>The data fit the second order slip equation and the Klinkenberg as well. As it is conspicuous from the graphs bellow, the reciprocal pressure range, has been limited and it is not clear because of the experimental limitations, witch regression model fits the data. The first equation is the generalized air flow predictor and coincide with the second, when the slip flow of the molecules on the capillary wall is insignificant. This time the statistical table will be used more extensively to evaluate, if the data are sufficient to predict the corrected permeability from the quadratic regression model. The second order slip equation is:\n",
    "</b></li>"
   ]
  },
  {
   "cell_type": "markdown",
   "id": "1d911f5a-21f9-4a78-b5f9-2172a1a95730",
   "metadata": {},
   "source": [
    "$$K_{air}=K_l\\left(1+A\\frac{1}{P_{avg}}+B\\frac{1}{{P_{avg}}^2}\\right)$$"
   ]
  },
  {
   "cell_type": "code",
   "execution_count": 10,
   "id": "b147479a-3510-4f1e-a8c8-78440b01432a",
   "metadata": {},
   "outputs": [],
   "source": [
    "x2 = df2[\"1/Pavg(1/atm)\"]\n",
    "y2 = df2[\"Kair(mD)\"]\n",
    "\n",
    "inds = x2.ravel().argsort()   \n",
    "x2 = x2.ravel()[inds].reshape(-1,1)\n",
    "y2 = y2[inds] "
   ]
  },
  {
   "cell_type": "code",
   "execution_count": 11,
   "id": "4f4f39dc-cedb-4840-aa08-046daa22faba",
   "metadata": {},
   "outputs": [],
   "source": [
    "from sklearn.preprocessing import PolynomialFeatures\n",
    "\n",
    "polynomial_features = PolynomialFeatures(degree=2)\n",
    "xp2 = polynomial_features.fit_transform(x2)"
   ]
  },
  {
   "cell_type": "code",
   "execution_count": 12,
   "id": "fa1159d4-de18-4471-b807-17d52fb454f1",
   "metadata": {},
   "outputs": [],
   "source": [
    "model2 = sm.OLS(y2, xp2).fit()\n",
    "ypred = model2.predict(xp2)"
   ]
  },
  {
   "cell_type": "code",
   "execution_count": 13,
   "id": "d8fe319f-8911-49cd-a9ff-1e8068e7ddca",
   "metadata": {},
   "outputs": [],
   "source": [
    "x3 = df2[\"1/Pavg(1/atm)\"]\n",
    "y3 = df2[\"Kair(mD)\"]\n",
    "\n",
    "x3 = sm.add_constant(x3)\n",
    "model3 = sm.OLS(y3, x3).fit()\n",
    "yhat2 = model3.predict(x3)"
   ]
  },
  {
   "cell_type": "code",
   "execution_count": 14,
   "id": "a930ebe1-6551-4383-820f-88e58ee4dd7b",
   "metadata": {},
   "outputs": [
    {
     "data": {
      "image/png": "[encoded data removed]",
      "text/plain": [
       "<Figure size 1500x600 with 2 Axes>"
      ]
     },
     "metadata": {},
     "output_type": "display_data"
    }
   ],
   "source": [
    "from matplotlib import rcParams\n",
    "\n",
    "rcParams['figure.figsize'] = 15, 6\n",
    "plt.figure()\n",
    "\n",
    "plt.subplot(1,2,1)\n",
    "plt.scatter(x2, y2, label=\"experimental data\")\n",
    "plt.plot(x2, ypred, label=\"Quadratic trend line\")\n",
    "plt.xlabel(\"$1/P_{avg}(1/atm)$\", fontsize = 10)\n",
    "plt.ylabel(\"$K_{air}(mD)$\", fontsize = 10)\n",
    "plt.title(\"Air permeability under 60 bar of overburden pressure\", fontsize = 12)\n",
    "plt.legend();\n",
    "\n",
    "plt.subplot(1,2,2)\n",
    "plt.scatter(df2[\"1/Pavg(1/atm)\"],  df2[\"Kair(mD)\"], label=\"experimental data\")\n",
    "plt.plot(df2[\"1/Pavg(1/atm)\"], yhat2, label=\"Linear trend line\")\n",
    "plt.xlabel(\"$1/P_{avg}(1/atm)$\", fontsize = 10)\n",
    "plt.ylabel(\"$K_{air}(mD)$\", fontsize = 10)\n",
    "plt.title(\"Air permeability under 60 bar of overburden pressure\", fontsize = 12)\n",
    "plt.legend();"
   ]
  },
  {
   "cell_type": "markdown",
   "id": "cb14460d-38fb-4c39-9652-3a08e5183404",
   "metadata": {},
   "source": [
    "#### The predictor y of the quadratic line equation equals:"
   ]
  },
  {
   "cell_type": "code",
   "execution_count": 15,
   "id": "ea995366-4329-43a9-b24f-cdd1c5232b41",
   "metadata": {},
   "outputs": [
    {
     "name": "stdout",
     "output_type": "stream",
     "text": [
      "        2\n",
      "-45.81 x + 113 x + 16.92\n"
     ]
    }
   ],
   "source": [
    "f = np.polyfit(df2[\"1/Pavg(1/atm)\"], df2[\"Kair(mD)\"], 2)\n",
    "p = np.poly1d(f)\n",
    "print(p)"
   ]
  },
  {
   "cell_type": "code",
   "execution_count": 16,
   "id": "1657bbc4-6737-485f-bc15-00d1d62e7eef",
   "metadata": {},
   "outputs": [
    {
     "name": "stdout",
     "output_type": "stream",
     "text": [
      "                            OLS Regression Results                            \n",
      "==============================================================================\n",
      "Dep. Variable:               Kair(mD)   R-squared:                       0.951\n",
      "Model:                            OLS   Adj. R-squared:                  0.948\n",
      "Method:                 Least Squares   F-statistic:                     320.4\n",
      "Date:                Wed, 07 Sep 2022   Prob (F-statistic):           2.43e-22\n",
      "Time:                        12:40:27   Log-Likelihood:                -18.475\n",
      "No. Observations:                  36   AIC:                             42.95\n",
      "Df Residuals:                      33   BIC:                             47.70\n",
      "Df Model:                           2                                         \n",
      "Covariance Type:            nonrobust                                         \n",
      "==============================================================================\n",
      "                 coef    std err          t      P>|t|      [0.025      0.975]\n",
      "------------------------------------------------------------------------------\n",
      "const         16.9162     21.859      0.774      0.445     -27.556      61.388\n",
      "x1           112.9544     55.959      2.019      0.052      -0.894     226.803\n",
      "x2           -45.8060     35.732     -1.282      0.209    -118.503      26.891\n",
      "==============================================================================\n",
      "Omnibus:                        0.436   Durbin-Watson:                   1.406\n",
      "Prob(Omnibus):                  0.804   Jarque-Bera (JB):                0.586\n",
      "Skew:                           0.139   Prob(JB):                        0.746\n",
      "Kurtosis:                       2.441   Cond. No.                     1.39e+03\n",
      "==============================================================================\n",
      "\n",
      "Notes:\n",
      "[1] Standard Errors assume that the covariance matrix of the errors is correctly specified.\n",
      "[2] The condition number is large, 1.39e+03. This might indicate that there are\n",
      "strong multicollinearity or other numerical problems.\n"
     ]
    }
   ],
   "source": [
    "print(model2.summary())"
   ]
  },
  {
   "cell_type": "markdown",
   "id": "671e6640-26d1-4ab7-a93c-c94ac1900d66",
   "metadata": {
    "tags": []
   },
   "source": [
    "<ul>\n",
    "<li><b>The R-squared coefficient approximates the value of 1. That substantiates that the trend line fits the data well. The adjacent R-squared is slightly smaller than R-squared, because the quadratic trend line fits the data as well.</b></li>\n",
    "<li><b>The P-value of the F-test is almost 0, so we reject the null hypothesis, that the model with no independent variables fits the data as well as the model, as it is obvious and additionally the probability that the polynomial of second degree fits the data by chance equals with the P-value.</b></li>\n",
    "<li><b>The standard error of the coefficients are very large. Only the p-value of x1 on t-test is mild larger than alpha=0.05, but the standard error remain half the mean value. The same can be stated for the coefficients values within 95% of interval confidence.</b></li>\n",
    "<li><b> A large condition number implies a strong trend of multicollinearity, as can been seen in the figures.\n",
    "</ul>"
   ]
  },
  {
   "cell_type": "markdown",
   "id": "34c3f0d2-9f34-4325-a76e-e068baa7c84f",
   "metadata": {},
   "source": [
    "#### In summary, the regression results state, that the quadratic trend line fits the data well, but the uncertainty of the coefficients upsurge as the multicollinearity strengthens."
   ]
  },
  {
   "cell_type": "code",
   "execution_count": 17,
   "id": "5ae670e3-f828-4845-87f8-0f4c905dab53",
   "metadata": {},
   "outputs": [
    {
     "name": "stdout",
     "output_type": "stream",
     "text": [
      "The standard error of the y estimate is 0.4222172860759531 mD\n"
     ]
    }
   ],
   "source": [
    "print(\"The standard error of the y estimate is\", np.sqrt(model2.scale), \"mD\")"
   ]
  },
  {
   "cell_type": "markdown",
   "id": "e3b0fc0f-c5ec-4ae5-8557-8e9f285a7dd9",
   "metadata": {},
   "source": [
    "#### $${\\boldsymbol{K}}_{\\boldsymbol{l}}\\boldsymbol{=}{\\boldsymbol{16},\\boldsymbol{9}\\boldsymbol{1}\\boldsymbol{\\ }}^{\\boldsymbol{+}}_{\\boldsymbol{-}}\\boldsymbol{\\ }\\boldsymbol{0}.\\boldsymbol{42}\\boldsymbol{\\ }\\boldsymbol{mD}$$"
   ]
  },
  {
   "cell_type": "markdown",
   "id": "34ed2641-bc54-4274-ac79-e0b4cd0124d8",
   "metadata": {},
   "source": [
    "#### <b>The small value of the standard error, of the estimator confirm the statistic table, that the fit is valid if the order of the regression model is known beforehand.</b>"
   ]
  },
  {
   "cell_type": "markdown",
   "id": "51e057dd-c9e9-4fbe-a595-50d2bbac5fba",
   "metadata": {},
   "source": [
    "<h2> 2. Permeability of water </h2>"
   ]
  },
  {
   "cell_type": "markdown",
   "id": "2595be2d-0d2c-4d76-a87d-7e44ff8c8df2",
   "metadata": {},
   "source": [
    "#### The pressure of water flow requires 1200 min, only for two values to be approximately stabilized, when the flow rate is small under 60 bar of overburden pressure. From Darcy's law, the water permeability ($K_w$) will be calculated from the pressure values"
   ]
  },
  {
   "cell_type": "markdown",
   "id": "a3d4908b-c665-4e04-9834-d9f1be3b3720",
   "metadata": {},
   "source": [
    "$$K_w=\\frac{Q{\\mu }_wL}{A\\mathit{\\Delta}P}$$ "
   ]
  },
  {
   "cell_type": "code",
   "execution_count": 18,
   "id": "6dfabc95-0814-4d0a-81a8-98e16eeef472",
   "metadata": {},
   "outputs": [
    {
     "data": {
      "text/html": [
       "<div>\n",
       "<style scoped>\n",
       "    .dataframe tbody tr th:only-of-type {\n",
       "        vertical-align: middle;\n",
       "    }\n",
       "\n",
       "    .dataframe tbody tr th {\n",
       "        vertical-align: top;\n",
       "    }\n",
       "\n",
       "    .dataframe thead th {\n",
       "        text-align: right;\n",
       "    }\n",
       "</style>\n",
       "<table border=\"1\" class=\"dataframe\">\n",
       "  <thead>\n",
       "    <tr style=\"text-align: right;\">\n",
       "      <th></th>\n",
       "      <th>DP1(atm)</th>\n",
       "      <th>DP2(atm)</th>\n",
       "    </tr>\n",
       "  </thead>\n",
       "  <tbody>\n",
       "    <tr>\n",
       "      <th>0</th>\n",
       "      <td>9.14</td>\n",
       "      <td>8.57</td>\n",
       "    </tr>\n",
       "    <tr>\n",
       "      <th>1</th>\n",
       "      <td>9.09</td>\n",
       "      <td>8.53</td>\n",
       "    </tr>\n",
       "    <tr>\n",
       "      <th>2</th>\n",
       "      <td>9.13</td>\n",
       "      <td>8.56</td>\n",
       "    </tr>\n",
       "    <tr>\n",
       "      <th>3</th>\n",
       "      <td>9.09</td>\n",
       "      <td>8.55</td>\n",
       "    </tr>\n",
       "    <tr>\n",
       "      <th>4</th>\n",
       "      <td>9.10</td>\n",
       "      <td>8.52</td>\n",
       "    </tr>\n",
       "  </tbody>\n",
       "</table>\n",
       "</div>"
      ],
      "text/plain": [
       "   DP1(atm)  DP2(atm)\n",
       "0      9.14      8.57\n",
       "1      9.09      8.53\n",
       "2      9.13      8.56\n",
       "3      9.09      8.55\n",
       "4      9.10      8.52"
      ]
     },
     "execution_count": 18,
     "metadata": {},
     "output_type": "execute_result"
    }
   ],
   "source": [
    "df3 = pd.read_csv(r\"C:\\Users\\nikol\\Desktop\\Python\\statsmodels\\proxeiro2.csv\")\n",
    "df3.head()"
   ]
  },
  {
   "cell_type": "code",
   "execution_count": 19,
   "id": "f754d810-0ff8-42f3-bbec-fa2b4e8fade4",
   "metadata": {},
   "outputs": [],
   "source": [
    "df3[\"Kw1(mD)\"] = 1000 * 4 / 60 * 1 * 4.751 / (math.pi * 2.543 ** 2 / 4 * df3[\"DP1(atm)\"])\n",
    "df3[\"Kw2(mD)\"] = 1000 * 3.5 / 60 * 1 * 4.751 / (math.pi * 2.543 ** 2 / 4 * df3[\"DP2(atm)\"])\n",
    "\n",
    "df3.to_csv('water permeability.csv', index=False)"
   ]
  },
  {
   "cell_type": "code",
   "execution_count": 20,
   "id": "cf24e1e8-72a7-4920-8a24-d5479a9fec45",
   "metadata": {},
   "outputs": [
    {
     "data": {
      "text/html": [
       "<div>\n",
       "<style scoped>\n",
       "    .dataframe tbody tr th:only-of-type {\n",
       "        vertical-align: middle;\n",
       "    }\n",
       "\n",
       "    .dataframe tbody tr th {\n",
       "        vertical-align: top;\n",
       "    }\n",
       "\n",
       "    .dataframe thead th {\n",
       "        text-align: right;\n",
       "    }\n",
       "</style>\n",
       "<table border=\"1\" class=\"dataframe\">\n",
       "  <thead>\n",
       "    <tr style=\"text-align: right;\">\n",
       "      <th></th>\n",
       "      <th>DP1(atm)</th>\n",
       "      <th>DP2(atm)</th>\n",
       "      <th>Kw1(mD)</th>\n",
       "      <th>Kw2(mD)</th>\n",
       "    </tr>\n",
       "  </thead>\n",
       "  <tbody>\n",
       "    <tr>\n",
       "      <th>0</th>\n",
       "      <td>9.14</td>\n",
       "      <td>8.57</td>\n",
       "      <td>6.822837</td>\n",
       "      <td>6.367052</td>\n",
       "    </tr>\n",
       "    <tr>\n",
       "      <th>1</th>\n",
       "      <td>9.09</td>\n",
       "      <td>8.53</td>\n",
       "      <td>6.860366</td>\n",
       "      <td>6.396909</td>\n",
       "    </tr>\n",
       "    <tr>\n",
       "      <th>2</th>\n",
       "      <td>9.13</td>\n",
       "      <td>8.56</td>\n",
       "      <td>6.830310</td>\n",
       "      <td>6.374490</td>\n",
       "    </tr>\n",
       "    <tr>\n",
       "      <th>3</th>\n",
       "      <td>9.09</td>\n",
       "      <td>8.55</td>\n",
       "      <td>6.860366</td>\n",
       "      <td>6.381946</td>\n",
       "    </tr>\n",
       "    <tr>\n",
       "      <th>4</th>\n",
       "      <td>9.10</td>\n",
       "      <td>8.52</td>\n",
       "      <td>6.852827</td>\n",
       "      <td>6.404417</td>\n",
       "    </tr>\n",
       "  </tbody>\n",
       "</table>\n",
       "</div>"
      ],
      "text/plain": [
       "   DP1(atm)  DP2(atm)   Kw1(mD)   Kw2(mD)\n",
       "0      9.14      8.57  6.822837  6.367052\n",
       "1      9.09      8.53  6.860366  6.396909\n",
       "2      9.13      8.56  6.830310  6.374490\n",
       "3      9.09      8.55  6.860366  6.381946\n",
       "4      9.10      8.52  6.852827  6.404417"
      ]
     },
     "execution_count": 20,
     "metadata": {},
     "output_type": "execute_result"
    }
   ],
   "source": [
    "df3.head()"
   ]
  },
  {
   "cell_type": "code",
   "execution_count": 21,
   "id": "6f838a21-8f70-4a7f-9b24-da725130340a",
   "metadata": {},
   "outputs": [
    {
     "data": {
      "text/plain": [
       "Text(0, 0.5, 'probability density function')"
      ]
     },
     "execution_count": 21,
     "metadata": {},
     "output_type": "execute_result"
    },
    {
     "data": {
      "image/png": "[encoded data removed]",
      "text/plain": [
       "<Figure size 1500x600 with 2 Axes>"
      ]
     },
     "metadata": {},
     "output_type": "display_data"
    }
   ],
   "source": [
    "import seaborn as sns\n",
    "\n",
    "fig, axes = plt.subplots(figsize=(15,6), ncols=2, nrows=1)\n",
    "\n",
    "p = sns.kdeplot(df3['DP1(atm)'], ax=axes[0])\n",
    "p.set_xlabel(\"$DP_{1}$\", fontsize = 10)\n",
    "p.set_ylabel(\"probability density function\", fontsize = 10)\n",
    "\n",
    "n = sns.kdeplot(df3['DP2(atm)'], ax=axes[1])\n",
    "n.set_xlabel(\"$DP_{2}$\", fontsize = 10)\n",
    "n.set_ylabel(\"probability density function\", fontsize = 10)"
   ]
  },
  {
   "cell_type": "markdown",
   "id": "4cb027fc-ab14-4848-bbef-58ece61ee0e9",
   "metadata": {},
   "source": [
    "#### From the figures of the probability density function, it is crystal clear that the stabilized pressures are normally distributed. The mean values, standard deviation and the median of the quadrilles are displayed in the table below."
   ]
  },
  {
   "cell_type": "code",
   "execution_count": 22,
   "id": "15c37830-f32d-4af4-9cac-18f523c525ed",
   "metadata": {},
   "outputs": [
    {
     "data": {
      "text/html": [
       "<div>\n",
       "<style scoped>\n",
       "    .dataframe tbody tr th:only-of-type {\n",
       "        vertical-align: middle;\n",
       "    }\n",
       "\n",
       "    .dataframe tbody tr th {\n",
       "        vertical-align: top;\n",
       "    }\n",
       "\n",
       "    .dataframe thead th {\n",
       "        text-align: right;\n",
       "    }\n",
       "</style>\n",
       "<table border=\"1\" class=\"dataframe\">\n",
       "  <thead>\n",
       "    <tr style=\"text-align: right;\">\n",
       "      <th></th>\n",
       "      <th>DP1(atm)</th>\n",
       "      <th>DP2(atm)</th>\n",
       "      <th>Kw1(mD)</th>\n",
       "      <th>Kw2(mD)</th>\n",
       "    </tr>\n",
       "  </thead>\n",
       "  <tbody>\n",
       "    <tr>\n",
       "      <th>count</th>\n",
       "      <td>16.000000</td>\n",
       "      <td>15.000000</td>\n",
       "      <td>16.000000</td>\n",
       "      <td>15.000000</td>\n",
       "    </tr>\n",
       "    <tr>\n",
       "      <th>mean</th>\n",
       "      <td>9.085625</td>\n",
       "      <td>8.514667</td>\n",
       "      <td>6.863754</td>\n",
       "      <td>6.408504</td>\n",
       "    </tr>\n",
       "    <tr>\n",
       "      <th>std</th>\n",
       "      <td>0.032857</td>\n",
       "      <td>0.030206</td>\n",
       "      <td>0.024825</td>\n",
       "      <td>0.022707</td>\n",
       "    </tr>\n",
       "    <tr>\n",
       "      <th>min</th>\n",
       "      <td>9.020000</td>\n",
       "      <td>8.480000</td>\n",
       "      <td>6.822837</td>\n",
       "      <td>6.367052</td>\n",
       "    </tr>\n",
       "    <tr>\n",
       "      <th>25%</th>\n",
       "      <td>9.077500</td>\n",
       "      <td>8.485000</td>\n",
       "      <td>6.858481</td>\n",
       "      <td>6.396909</td>\n",
       "    </tr>\n",
       "    <tr>\n",
       "      <th>50%</th>\n",
       "      <td>9.085000</td>\n",
       "      <td>8.510000</td>\n",
       "      <td>6.864144</td>\n",
       "      <td>6.411943</td>\n",
       "    </tr>\n",
       "    <tr>\n",
       "      <th>75%</th>\n",
       "      <td>9.092500</td>\n",
       "      <td>8.530000</td>\n",
       "      <td>6.869815</td>\n",
       "      <td>6.430837</td>\n",
       "    </tr>\n",
       "    <tr>\n",
       "      <th>max</th>\n",
       "      <td>9.140000</td>\n",
       "      <td>8.570000</td>\n",
       "      <td>6.913606</td>\n",
       "      <td>6.434627</td>\n",
       "    </tr>\n",
       "  </tbody>\n",
       "</table>\n",
       "</div>"
      ],
      "text/plain": [
       "        DP1(atm)   DP2(atm)    Kw1(mD)    Kw2(mD)\n",
       "count  16.000000  15.000000  16.000000  15.000000\n",
       "mean    9.085625   8.514667   6.863754   6.408504\n",
       "std     0.032857   0.030206   0.024825   0.022707\n",
       "min     9.020000   8.480000   6.822837   6.367052\n",
       "25%     9.077500   8.485000   6.858481   6.396909\n",
       "50%     9.085000   8.510000   6.864144   6.411943\n",
       "75%     9.092500   8.530000   6.869815   6.430837\n",
       "max     9.140000   8.570000   6.913606   6.434627"
      ]
     },
     "execution_count": 22,
     "metadata": {},
     "output_type": "execute_result"
    }
   ],
   "source": [
    "df3.describe()"
   ]
  },
  {
   "cell_type": "markdown",
   "id": "770f950d-4689-47f2-a02f-ef9b49f7018b",
   "metadata": {},
   "source": [
    "#### Conducting a t-test at a 99% confidence level for DP1:"
   ]
  },
  {
   "cell_type": "code",
   "execution_count": 23,
   "id": "04f9b25b-b77c-40f1-abf4-e86661c12c73",
   "metadata": {},
   "outputs": [
    {
     "data": {
      "text/plain": [
       "(9.061419953784334, 9.109830046215666)"
      ]
     },
     "execution_count": 23,
     "metadata": {},
     "output_type": "execute_result"
    }
   ],
   "source": [
    "import scipy.stats as stats\n",
    "import math\n",
    "\n",
    "sigma_DP1 = df3[\"DP1(atm)\"].std() / math.sqrt(df3[\"DP1(atm)\"].count())\n",
    "stats.t.interval(0.99, df=df3[\"DP1(atm)\"].count() - 1, loc=df3[\"DP1(atm)\"].mean(), scale=sigma_DP1)"
   ]
  },
  {
   "cell_type": "code",
   "execution_count": 24,
   "id": "ce045068-a7da-446d-bb03-2d9220e459bd",
   "metadata": {},
   "outputs": [
    {
     "name": "stdout",
     "output_type": "stream",
     "text": [
      "The standard deviation of DP1 is 0.024205046215666215 atm\n"
     ]
    }
   ],
   "source": [
    "σ_DP1 = df3[\"DP1(atm)\"].mean() - 9.061419953784334\n",
    "print(\"The standard deviation of DP1 is\", σ_DP1, \"atm\")"
   ]
  },
  {
   "cell_type": "code",
   "execution_count": 25,
   "id": "b892c4b5-52dc-4c7f-af5a-98768c43968a",
   "metadata": {},
   "outputs": [
    {
     "name": "stdout",
     "output_type": "stream",
     "text": [
      "The difference between the sample and t-test's standard deviation is 0.008651967241636166 atm\n"
     ]
    }
   ],
   "source": [
    "print(\"The difference between the sample and t-test's standard deviation is\", df3[\"DP1(atm)\"].std() - σ_DP1 , \"atm\")"
   ]
  },
  {
   "cell_type": "markdown",
   "id": "08f04a90-f239-47c5-ab72-0c411227a299",
   "metadata": {},
   "source": [
    "#### Following the same procedure for DP2:"
   ]
  },
  {
   "cell_type": "code",
   "execution_count": 26,
   "id": "6c58fc51-11a3-4990-af89-69d07530ff68",
   "metadata": {},
   "outputs": [
    {
     "data": {
      "text/plain": [
       "(8.491450080133093, 8.53788325320024)"
      ]
     },
     "execution_count": 26,
     "metadata": {},
     "output_type": "execute_result"
    }
   ],
   "source": [
    "sigma_DP2 = df3[\"DP2(atm)\"].std() / math.sqrt(df3[\"DP2(atm)\"].count())\n",
    "stats.t.interval(0.99, df=df3[\"DP2(atm)\"].count() - 1, loc=df3[\"DP2(atm)\"].mean(), scale=sigma_DP2)"
   ]
  },
  {
   "cell_type": "code",
   "execution_count": 27,
   "id": "7f580107-b60f-49da-b806-2fa36806a47b",
   "metadata": {},
   "outputs": [
    {
     "name": "stdout",
     "output_type": "stream",
     "text": [
      "The standard deviation of DP2 is 0.02321658653357339 atm\n"
     ]
    }
   ],
   "source": [
    "σ_DP2 = df3[\"DP2(atm)\"].mean() - 8.491450080133093\n",
    "print(\"The standard deviation of DP2 is\", σ_DP2, \"atm\")"
   ]
  },
  {
   "cell_type": "code",
   "execution_count": 28,
   "id": "dfad5a7b-a7fb-491c-9a2d-1801502e8e11",
   "metadata": {},
   "outputs": [
    {
     "name": "stdout",
     "output_type": "stream",
     "text": [
      "The difference between the sample and t-test's standard deviation is 0.006989057845928733 atm\n"
     ]
    }
   ],
   "source": [
    "print(\"The difference between the sample and t-test's standard deviation is\", df3[\"DP2(atm)\"].std() - σ_DP2, \"atm\")"
   ]
  },
  {
   "cell_type": "markdown",
   "id": "2b228396-0311-4004-83b1-28aca504e492",
   "metadata": {},
   "source": [
    "$${\\mathit{D}P}_1={9.086\\ }^+_-\\ 0.024\\ atm$$ \n",
    "$${\\mathit{D}P}_2={8.515\\ }^+_-\\ 0.023\\ atm$$"
   ]
  },
  {
   "cell_type": "markdown",
   "id": "2b570e47-59be-4176-baeb-2f42a1a01619",
   "metadata": {},
   "source": [
    "#### From Darcy's law, the water permeability ($K_w$) will be calculated from the pressure values."
   ]
  },
  {
   "cell_type": "code",
   "execution_count": 29,
   "id": "8802e06e-951c-4615-90fa-49ef9db908b2",
   "metadata": {},
   "outputs": [
    {
     "name": "stdout",
     "output_type": "stream",
     "text": [
      "The first stabilized value of water permeability is 6.86375364495948 mD\n"
     ]
    }
   ],
   "source": [
    "K_w1 = df3[\"Kw1(mD)\"].mean()\n",
    "print(\"The first stabilized value of water permeability is\", K_w1, \"mD\")"
   ]
  },
  {
   "cell_type": "code",
   "execution_count": 30,
   "id": "76a6ba8f-d9ca-4fb1-a16f-8ed8ff73ea1b",
   "metadata": {},
   "outputs": [
    {
     "name": "stdout",
     "output_type": "stream",
     "text": [
      "The second stabilized value of water permeability is 6.408504104411152 mD\n"
     ]
    }
   ],
   "source": [
    "K_w2 = df3[\"Kw2(mD)\"].mean()\n",
    "print(\"The second stabilized value of water permeability is\", K_w2, \"mD\")"
   ]
  },
  {
   "cell_type": "markdown",
   "id": "1ab16daf-65fa-404f-865e-56edc26bbd51",
   "metadata": {},
   "source": [
    "$$K_{w1}=6,86\\ mD$$ \n",
    "$$K_{w2}=\\ 6,41\\ mD$$ "
   ]
  },
  {
   "cell_type": "markdown",
   "id": "00c29f2f-f078-4c02-b82d-574e9ac87038",
   "metadata": {},
   "source": [
    "<b>\n",
    "The difference in water permeability is not caused by measurement error, because the error of pressure is very small. It can be clearly seen that, when the flow rate of the measurements is greater, under 150 bar overburden pressure. This is due to the electroosmotic phenomena, namely the electrostatic interaction between the clay particles of the rock and the polar fluids, like water. The fluid is characterized by plastic behaviour. Specifically, the fluid needs a threshold pressure, for the flow to initiate. The maximum permeability of the plastic flow equals the intrinsic permeability of the rock when the electroosmotic phenomena become negligible. The absolute permeability will be calculated from the Buckingham-Reiner equation.\n",
    "</b>"
   ]
  },
  {
   "cell_type": "markdown",
   "id": "bd8ea598-b2de-4fbf-a7c1-7195f0b575e7",
   "metadata": {},
   "source": [
    "$$K_w\\left(\\mathit{D}P\\right)=\\frac{\\mathit{\\Phi}R^2}{8}\\left[1-\\frac{4}{3}\\left(\\frac{2L{\\tau }}{R\\mathit{D}P}\\right)+\\frac{1}{3}{\\left(\\frac{2L{\\tau }}{R\\mathit{D}P}\\right)}^4\\right]$$"
   ]
  },
  {
   "cell_type": "markdown",
   "id": "b27f6eec-547f-4d8e-8c97-934cda0e32e4",
   "metadata": {},
   "source": [
    "##### Setting $x=\\frac{\\tau }{R}$ and dividing $K_{w1}({\\mathit{D}P}_1)$ by $K_{w2}({\\mathit{D}P}_2):$"
   ]
  },
  {
   "cell_type": "markdown",
   "id": "c0e65fbf-08d4-4d43-8ce2-e9a9924a35df",
   "metadata": {},
   "source": [
    "$$ax^4+bx+c=0$$"
   ]
  },
  {
   "cell_type": "markdown",
   "id": "a67f1589-6df6-4fe7-b203-f9222877fb26",
   "metadata": {},
   "source": [
    "$$a=\\frac{16}{3}L^4\\left(\\frac{K_{w2}}{{{\\mathit{D}P}_1}^4}-\\frac{K_{w1}}{{{\\mathit{D}P}_2}^4}\\right),\\ \\ b=\\frac{8}{3}L\\left(\\frac{K_{w1}}{{\\mathit{D}P}_2}-\\frac{K_{w2}}{{\\mathit{D}P}_1}\\right),\\ \\ c=K_{w2}-K_{w1}$$"
   ]
  },
  {
   "cell_type": "code",
   "execution_count": 31,
   "id": "084339d3-a629-4fa5-9b5a-13f0835855a0",
   "metadata": {},
   "outputs": [],
   "source": [
    "a = 16 / 3 * 0.04751 ** 4 * (df3[\"Kw2(mD)\"].mean() * 9.86923266716 * 10 ** -16 / (df3[\"DP1(atm)\"].mean() * 101325) ** 4 - df3[\"Kw1(mD)\"].mean() *\n",
    "    9.86923266716 * 10 ** -16 / (df3[\"DP2(atm)\"].mean() * 101325) ** 4) * 10 ** 16"
   ]
  },
  {
   "cell_type": "code",
   "execution_count": 32,
   "id": "e7974b97-5d82-4856-b56a-07c57ab9e383",
   "metadata": {},
   "outputs": [],
   "source": [
    "b = 8 / 3 * 0.04751 * (df3[\"Kw1(mD)\"].mean() * 9.86923266716 * (10 ** -16) / (df3[\"DP2(atm)\"].mean() * 101325) - df3[\"Kw2(mD)\"].mean() *\n",
    "    9.86923266716 * (10 ** -16) / (df3[\"DP1(atm)\"].mean() * 101325)) * 10 ** 16"
   ]
  },
  {
   "cell_type": "code",
   "execution_count": 33,
   "id": "f91077e1-f5ab-497e-ae53-f2a0a0d6d345",
   "metadata": {},
   "outputs": [],
   "source": [
    "c = (df3[\"Kw2(mD)\"].mean() * 9.86923266716 * 10 ** -16 - df3[\"Kw1(mD)\"].mean() * 9.86923266716 * 10 ** -16) * 10 ** 16"
   ]
  },
  {
   "cell_type": "markdown",
   "id": "2c0f3769-a0c8-4525-a2b7-b38e2e56ad5f",
   "metadata": {},
   "source": [
    "#### The root of $f(x)=ax^4+bx+c$ will be calculated from Newton-Raphson method. Defining Equation and Derivative:"
   ]
  },
  {
   "cell_type": "code",
   "execution_count": 34,
   "id": "b79633de-e893-4753-a6a3-08b80c1eba40",
   "metadata": {},
   "outputs": [],
   "source": [
    "def f(x):\n",
    "    res = a * x ** 4 + b * x + c\n",
    "    return res\n",
    " \n",
    "def dfdx(x):\n",
    "    res = 4 * a * x ** 3 + b\n",
    "    return res"
   ]
  },
  {
   "cell_type": "markdown",
   "id": "3890f815-27f3-4081-9a0d-099819558f17",
   "metadata": {},
   "source": [
    "#### A value is set for the maximum number of iterations, the decimal tolerance, the iteration counter and the initial guess for the root. The algorithm will be iterated until either the tolerance or the maximum number of iterations is met."
   ]
  },
  {
   "cell_type": "code",
   "execution_count": 35,
   "id": "cdcc417a-c398-4eef-a7db-b2823fe80787",
   "metadata": {},
   "outputs": [
    {
     "name": "stdout",
     "output_type": "stream",
     "text": [
      "Iteration 0: x = 5000000.0, f(x) = 1.1432346894191259\n",
      "Iteration 1: x = 3531729.814711351, f(x) = -0.24608685613283132\n",
      "Iteration 2: x = 3759664.7992286063, f(x) = -0.0037726308696868216\n",
      "Iteration 3: x = 3763272.1100701713, f(x) = -1.0266121677204865e-06\n",
      "Iteration 4: x = 3763273.0922299875, f(x) = -7.638334409421077e-14\n",
      "Iteration 5: x = 3763273.0922300606, f(x) = 0.0\n"
     ]
    }
   ],
   "source": [
    "max_iter = 100 \n",
    "tol = 1E-15  \n",
    "i = 0  \n",
    "x0 = 5E+06  \n",
    "xi_1 = x0\n",
    "\n",
    "print(\"Iteration \" + str(i) + \": x = \" + str(x0) + \", f(x) = \" + str(f(x0)))\n",
    "while abs(f(xi_1)) > tol or i > max_iter:\n",
    "    i = i + 1\n",
    "    xi = xi_1-f(xi_1)/dfdx(xi_1)  \n",
    "    print(\"Iteration \" + str(i) + \": x = \" + str(xi) + \", f(x) = \" +  str(f(xi)))\n",
    "    xi_1 = xi"
   ]
  },
  {
   "cell_type": "markdown",
   "id": "e5534c49-cd02-4e92-b407-6f0fc196fa6d",
   "metadata": {},
   "source": [
    "#### The radius of the capillaries will be calculated from the Buckingham-Reiner equation."
   ]
  },
  {
   "cell_type": "code",
   "execution_count": 36,
   "id": "9cbffe2a-a108-4457-ae13-b2f3a3de83af",
   "metadata": {},
   "outputs": [
    {
     "name": "stdout",
     "output_type": "stream",
     "text": [
      "The radius of the capillaries is 0.7773217663428579 μm\n"
     ]
    }
   ],
   "source": [
    "R = np.sqrt( 8 * (df3[\"Kw2(mD)\"].mean() * 9.86923266716 * 10 ** - 16) / (0.183154 * (1 - 4 / 3 * (2 * 0.04751 * xi / (df3[\"DP2(atm)\"].mean() *\n",
    "    101325)) + 1 / 3 * (2 * 0.04751 * xi / (df3[\"DP2(atm)\"].mean() * 101325)) ** 4))) * 10 ** 6\n",
    "print(\"The radius of the capillaries is\", R, \"μm\")"
   ]
  },
  {
   "cell_type": "markdown",
   "id": "7e88008f-95a3-4d6d-bbaa-a84c9a31d715",
   "metadata": {},
   "source": [
    "#### The threshold shear stress between the layers of water for the flow to be initiated:"
   ]
  },
  {
   "cell_type": "code",
   "execution_count": 37,
   "id": "f2e75193-e9ea-44e4-9e1e-d7de995d95c3",
   "metadata": {},
   "outputs": [
    {
     "name": "stdout",
     "output_type": "stream",
     "text": [
      "The threshold shear stress equals 2.9252740872828196 Pa\n"
     ]
    }
   ],
   "source": [
    "τ = R * 10 ** -6 * xi\n",
    "print(\"The threshold shear stress equals\", τ, \"Pa\")"
   ]
  },
  {
   "cell_type": "markdown",
   "id": "ef952fee-e8a8-4b68-8220-7d3f66008ec0",
   "metadata": {},
   "source": [
    "$$K_{max}={\\mathop{lim}_{\\mathit{\\Delta}P\\to \\infty } K_w\\left(\\mathit{\\Delta}P\\right)\\ }=\\frac{\\mathit{\\Phi}R^2}{8}$$"
   ]
  },
  {
   "cell_type": "code",
   "execution_count": 38,
   "id": "1f34f0d7-95d2-4651-8599-6b8b6c06ec0e",
   "metadata": {},
   "outputs": [
    {
     "name": "stdout",
     "output_type": "stream",
     "text": [
      "The maximum permeability of water is 14.016664912154507 mD\n"
     ]
    }
   ],
   "source": [
    "K_max = (R * 10 ** -6) ** 2 * 0.183154 / 8 * 1.01325 * 10 ** 15\n",
    "print(\"The maximum permeability of water is\", K_max, \"mD\")"
   ]
  },
  {
   "cell_type": "markdown",
   "id": "7220fbca-72c8-44a8-81fb-8cfa17c7ffc3",
   "metadata": {},
   "source": [
    "#### $${\\boldsymbol{K}}_{\\boldsymbol{max}}\\boldsymbol{=}\\boldsymbol{14}.\\boldsymbol{02}\\boldsymbol{\\ }\\boldsymbol{mD}$$"
   ]
  },
  {
   "cell_type": "code",
   "execution_count": 39,
   "id": "aa10d345-a6e5-4664-85a8-fc5a9f5f0553",
   "metadata": {},
   "outputs": [
    {
     "data": {
      "text/html": [
       "<div>\n",
       "<style scoped>\n",
       "    .dataframe tbody tr th:only-of-type {\n",
       "        vertical-align: middle;\n",
       "    }\n",
       "\n",
       "    .dataframe tbody tr th {\n",
       "        vertical-align: top;\n",
       "    }\n",
       "\n",
       "    .dataframe thead th {\n",
       "        text-align: right;\n",
       "    }\n",
       "</style>\n",
       "<table border=\"1\" class=\"dataframe\">\n",
       "  <thead>\n",
       "    <tr style=\"text-align: right;\">\n",
       "      <th></th>\n",
       "      <th>DP(atm)</th>\n",
       "      <th>Kw(mD)</th>\n",
       "    </tr>\n",
       "  </thead>\n",
       "  <tbody>\n",
       "    <tr>\n",
       "      <th>0</th>\n",
       "      <td>5.0</td>\n",
       "      <td>2.02</td>\n",
       "    </tr>\n",
       "    <tr>\n",
       "      <th>1</th>\n",
       "      <td>5.5</td>\n",
       "      <td>2.85</td>\n",
       "    </tr>\n",
       "    <tr>\n",
       "      <th>2</th>\n",
       "      <td>6.0</td>\n",
       "      <td>3.61</td>\n",
       "    </tr>\n",
       "    <tr>\n",
       "      <th>3</th>\n",
       "      <td>6.5</td>\n",
       "      <td>4.30</td>\n",
       "    </tr>\n",
       "    <tr>\n",
       "      <th>4</th>\n",
       "      <td>7.0</td>\n",
       "      <td>4.91</td>\n",
       "    </tr>\n",
       "  </tbody>\n",
       "</table>\n",
       "</div>"
      ],
      "text/plain": [
       "   DP(atm)  Kw(mD)\n",
       "0      5.0    2.02\n",
       "1      5.5    2.85\n",
       "2      6.0    3.61\n",
       "3      6.5    4.30\n",
       "4      7.0    4.91"
      ]
     },
     "execution_count": 39,
     "metadata": {},
     "output_type": "execute_result"
    }
   ],
   "source": [
    "df4 = pd.read_csv(r\"C:\\Users\\nikol\\Desktop\\Python\\statsmodels\\B-R@60bar.csv\")\n",
    "df4.head()"
   ]
  },
  {
   "cell_type": "code",
   "execution_count": 40,
   "id": "113908cf-f522-4e38-8ffa-c5a30f424d29",
   "metadata": {},
   "outputs": [
    {
     "data": {
      "text/plain": [
       "[<matplotlib.lines.Line2D at 0x1c07da75790>]"
      ]
     },
     "execution_count": 40,
     "metadata": {},
     "output_type": "execute_result"
    },
    {
     "data": {
      "image/png": "[encoded data removed]",
      "text/plain": [
       "<Figure size 1000x600 with 1 Axes>"
      ]
     },
     "metadata": {},
     "output_type": "display_data"
    }
   ],
   "source": [
    "width = 10\n",
    "height = 6\n",
    "plt.figure(figsize=(width, height))\n",
    "\n",
    "plt.xlabel(\"DP(atm)\", fontsize = 10)\n",
    "plt.ylabel(\"$K_{w}(mD)$\", fontsize = 10)\n",
    "plt.ylim((2,14))\n",
    "plt.xlim((0,300))\n",
    "plt.title(\"Permeability of water under 60 bar of overburden pressure\", fontsize = 12)\n",
    "\n",
    "plt.plot(df4[\"DP(atm)\"], df4[\"Kw(mD)\"], \"b\")"
   ]
  },
  {
   "cell_type": "markdown",
   "id": "3ccd1548-51e8-48a8-a4e0-92a21b34aab2",
   "metadata": {},
   "source": [
    "#### From the figure, is clearly, that the permeability of water reaches a plateau. Given an infinite value for the differential pressure, the permeability line meets the plateau at 14.02 mD."
   ]
  },
  {
   "cell_type": "markdown",
   "id": "fc880861-06c6-4538-b2e6-cf1ff9971a78",
   "metadata": {},
   "source": [
    "#### The pressure of water when the flow rate is bigger, under 150 bar of overburden pressure, stabilized completely and the values were much more. That will allow the experimental data to be compared with the Buckingham-Reiner line. Consequently, when the flow rate is decreased, the values stabilized also, very quickly."
   ]
  },
  {
   "cell_type": "code",
   "execution_count": 41,
   "id": "92d578ae-e324-4580-85d6-2b7ed6c64ff1",
   "metadata": {},
   "outputs": [
    {
     "data": {
      "text/html": [
       "<div>\n",
       "<style scoped>\n",
       "    .dataframe tbody tr th:only-of-type {\n",
       "        vertical-align: middle;\n",
       "    }\n",
       "\n",
       "    .dataframe tbody tr th {\n",
       "        vertical-align: top;\n",
       "    }\n",
       "\n",
       "    .dataframe thead th {\n",
       "        text-align: right;\n",
       "    }\n",
       "</style>\n",
       "<table border=\"1\" class=\"dataframe\">\n",
       "  <thead>\n",
       "    <tr style=\"text-align: right;\">\n",
       "      <th></th>\n",
       "      <th>DP(atm)</th>\n",
       "      <th>Kw(mD)</th>\n",
       "    </tr>\n",
       "  </thead>\n",
       "  <tbody>\n",
       "    <tr>\n",
       "      <th>0</th>\n",
       "      <td>90.8</td>\n",
       "      <td>1.20</td>\n",
       "    </tr>\n",
       "    <tr>\n",
       "      <th>1</th>\n",
       "      <td>80.9</td>\n",
       "      <td>1.16</td>\n",
       "    </tr>\n",
       "    <tr>\n",
       "      <th>2</th>\n",
       "      <td>68.1</td>\n",
       "      <td>1.14</td>\n",
       "    </tr>\n",
       "    <tr>\n",
       "      <th>3</th>\n",
       "      <td>55.3</td>\n",
       "      <td>1.13</td>\n",
       "    </tr>\n",
       "    <tr>\n",
       "      <th>4</th>\n",
       "      <td>44.4</td>\n",
       "      <td>1.05</td>\n",
       "    </tr>\n",
       "    <tr>\n",
       "      <th>5</th>\n",
       "      <td>32.6</td>\n",
       "      <td>0.96</td>\n",
       "    </tr>\n",
       "    <tr>\n",
       "      <th>6</th>\n",
       "      <td>20.2</td>\n",
       "      <td>0.77</td>\n",
       "    </tr>\n",
       "    <tr>\n",
       "      <th>7</th>\n",
       "      <td>13.3</td>\n",
       "      <td>0.59</td>\n",
       "    </tr>\n",
       "  </tbody>\n",
       "</table>\n",
       "</div>"
      ],
      "text/plain": [
       "   DP(atm)  Kw(mD)\n",
       "0     90.8    1.20\n",
       "1     80.9    1.16\n",
       "2     68.1    1.14\n",
       "3     55.3    1.13\n",
       "4     44.4    1.05\n",
       "5     32.6    0.96\n",
       "6     20.2    0.77\n",
       "7     13.3    0.59"
      ]
     },
     "execution_count": 41,
     "metadata": {},
     "output_type": "execute_result"
    }
   ],
   "source": [
    "df5 = pd.read_csv(r\"C:\\Users\\nikol\\Desktop\\Python\\statsmodels\\water permeability 2.csv\")\n",
    "df5"
   ]
  },
  {
   "cell_type": "markdown",
   "id": "6b11ec04-22c6-4288-b29e-54c371730c55",
   "metadata": {},
   "source": [
    "#### The same procedure will be followed as well."
   ]
  },
  {
   "cell_type": "markdown",
   "id": "1f2853b8-d29c-4f26-8637-1467dbb06007",
   "metadata": {},
   "source": [
    "$$K_{w1}=0.59\\ mD$$ \n",
    "$$K_{w2}=\\ 1.20\\ mD$$ "
   ]
  },
  {
   "cell_type": "code",
   "execution_count": 42,
   "id": "8a4d8f4a-1884-4837-bf96-8e419b9c043f",
   "metadata": {},
   "outputs": [],
   "source": [
    "K_w2 = df5.iat[0,1]\n",
    "DP_2 = df5.iat[0,0]\n",
    "\n",
    "K_w1 = df5.iat[7,1]\n",
    "DP_1 = df5.iat[7,0]"
   ]
  },
  {
   "cell_type": "code",
   "execution_count": 43,
   "id": "ef9d4c6e-0d44-4970-9288-e01dca6c6942",
   "metadata": {},
   "outputs": [],
   "source": [
    "a = 16 / 3 * 0.04751 ** 4 * (K_w2 * 9.86923266716 * 10 ** -16 / (DP_1*101325) ** 4 - K_w1 * 9.86923266716 * 10 ** -16 / (DP_2 * 101325) ** 4) * 10 ** 16"
   ]
  },
  {
   "cell_type": "code",
   "execution_count": 44,
   "id": "7fd40742-ae12-4859-8ffa-aaa079d6b68c",
   "metadata": {},
   "outputs": [],
   "source": [
    "b = 8 / 3 * 0.04751 * (K_w1 * 9.86923266716 * (10 ** -16) / (DP_2 * 101325) - K_w2 * 9.86923266716 * (10 ** -16) / (DP_1 * 101325)) * 10 ** 16"
   ]
  },
  {
   "cell_type": "code",
   "execution_count": 45,
   "id": "30af0cc4-5668-4d4b-bfc8-9f2797ca84db",
   "metadata": {},
   "outputs": [],
   "source": [
    "c = (K_w2 * 9.86923266716 * 10 ** -16 - K_w1 * 9.86923266716 * 10 ** -16) * 10 ** 16"
   ]
  },
  {
   "cell_type": "code",
   "execution_count": 46,
   "id": "d60eefa6-30ee-4ea6-bd41-11210e9cdd0d",
   "metadata": {},
   "outputs": [],
   "source": [
    "def f(x):\n",
    "    res = a * x ** 4 + b * x + c\n",
    "    return res\n",
    " \n",
    "def dfdx(x):\n",
    "    res = 4 * a * x ** 3 + b\n",
    "    return res"
   ]
  },
  {
   "cell_type": "code",
   "execution_count": 47,
   "id": "8ec5ad59-1459-4b01-bc12-013a8d0fac7e",
   "metadata": {},
   "outputs": [
    {
     "name": "stdout",
     "output_type": "stream",
     "text": [
      "Iteration 0: x = 6000000.0, f(x) = -0.05262245374993224\n",
      "Iteration 1: x = 5944545.4423180735, f(x) = 6.439948520320371e-05\n",
      "Iteration 2: x = 5944613.142546746, f(x) = 9.479883544827317e-11\n",
      "Iteration 3: x = 5944613.142646404, f(x) = 8.881784197001252e-16\n"
     ]
    }
   ],
   "source": [
    "max_iter = 100 \n",
    "tol = 1E-15  \n",
    "i = 0  \n",
    "x0 = 6E+06  \n",
    "xi_1 = x0\n",
    "\n",
    "print(\"Iteration \" + str(i) + \": x = \" + str(x0) + \", f(x) = \" + str(f(x0)))\n",
    "while abs(f(xi_1)) > tol or i > max_iter:\n",
    "    i = i + 1\n",
    "    xi = xi_1-f(xi_1)/dfdx(xi_1)  \n",
    "    print(\"Iteration \" + str(i) + \": x = \" + str(xi) + \", f(x) = \" + str(f(xi)))\n",
    "    xi_1 = xi"
   ]
  },
  {
   "cell_type": "code",
   "execution_count": 48,
   "id": "9603fa7f-3fc3-4022-9495-ff5b15de52c4",
   "metadata": {},
   "outputs": [
    {
     "name": "stdout",
     "output_type": "stream",
     "text": [
      "The radius of the capillaries is 0.2373633555318724 μm\n"
     ]
    }
   ],
   "source": [
    "R = np.sqrt(8 * (K_w2 * 9.86923266716 * 10 ** -16) / ( 0.183154 * (1 - 4 / 3 * (2 * 0.04751 * xi / (DP_2 * 101325)) + 1 / 3 * (2 * 0.04751 * xi / \n",
    "    (DP_2 * 101325)) ** 4))) * 10 ** 6\n",
    "print(\"The radius of the capillaries is\", R, \"μm\")"
   ]
  },
  {
   "cell_type": "code",
   "execution_count": 49,
   "id": "a90d3766-9641-498f-8013-c0d8309d600b",
   "metadata": {},
   "outputs": [
    {
     "name": "stdout",
     "output_type": "stream",
     "text": [
      "The threshold shear stress equals 1.4110333228774197 Pa\n"
     ]
    }
   ],
   "source": [
    "τ = R * 10 ** -6 * xi\n",
    "print(\"The threshold shear stress equals\", τ, \"Pa\")"
   ]
  },
  {
   "cell_type": "code",
   "execution_count": 50,
   "id": "51a5e828-2899-4cc0-b83b-553ae97dd28f",
   "metadata": {},
   "outputs": [
    {
     "name": "stdout",
     "output_type": "stream",
     "text": [
      "The maximum permeability of water is 1.3069843249694348 mD\n"
     ]
    }
   ],
   "source": [
    "K_max = (R * 10 ** -6) ** 2 * 0.183154 / 8 * 1.01325 * 10 ** 15\n",
    "print(\"The maximum permeability of water is\", K_max, \"mD\")"
   ]
  },
  {
   "cell_type": "markdown",
   "id": "3699d89b-1351-4a2c-abde-6b6d5ae504f1",
   "metadata": {},
   "source": [
    "#### $${\\boldsymbol{K}}_{\\boldsymbol{max}}\\boldsymbol{=}\\boldsymbol{1}.\\boldsymbol{31}\\boldsymbol{\\ }\\boldsymbol{mD}$$"
   ]
  },
  {
   "cell_type": "markdown",
   "id": "256b2f6f-2c93-41ca-8ed3-ac7f9027ecbd",
   "metadata": {},
   "source": [
    "#### Creating a data frame from the Buckingham-Reiner equation:"
   ]
  },
  {
   "cell_type": "code",
   "execution_count": 51,
   "id": "c7965562-cec4-4b18-8f67-14165316741d",
   "metadata": {},
   "outputs": [
    {
     "data": {
      "text/html": [
       "<div>\n",
       "<style scoped>\n",
       "    .dataframe tbody tr th:only-of-type {\n",
       "        vertical-align: middle;\n",
       "    }\n",
       "\n",
       "    .dataframe tbody tr th {\n",
       "        vertical-align: top;\n",
       "    }\n",
       "\n",
       "    .dataframe thead th {\n",
       "        text-align: right;\n",
       "    }\n",
       "</style>\n",
       "<table border=\"1\" class=\"dataframe\">\n",
       "  <thead>\n",
       "    <tr style=\"text-align: right;\">\n",
       "      <th></th>\n",
       "      <th>DP(atm)</th>\n",
       "      <th>Kw(mD)</th>\n",
       "    </tr>\n",
       "  </thead>\n",
       "  <tbody>\n",
       "    <tr>\n",
       "      <th>0</th>\n",
       "      <td>10</td>\n",
       "      <td>0.37</td>\n",
       "    </tr>\n",
       "    <tr>\n",
       "      <th>1</th>\n",
       "      <td>20</td>\n",
       "      <td>0.82</td>\n",
       "    </tr>\n",
       "    <tr>\n",
       "      <th>2</th>\n",
       "      <td>30</td>\n",
       "      <td>0.98</td>\n",
       "    </tr>\n",
       "    <tr>\n",
       "      <th>3</th>\n",
       "      <td>40</td>\n",
       "      <td>1.06</td>\n",
       "    </tr>\n",
       "    <tr>\n",
       "      <th>4</th>\n",
       "      <td>50</td>\n",
       "      <td>1.11</td>\n",
       "    </tr>\n",
       "  </tbody>\n",
       "</table>\n",
       "</div>"
      ],
      "text/plain": [
       "   DP(atm)  Kw(mD)\n",
       "0       10    0.37\n",
       "1       20    0.82\n",
       "2       30    0.98\n",
       "3       40    1.06\n",
       "4       50    1.11"
      ]
     },
     "execution_count": 51,
     "metadata": {},
     "output_type": "execute_result"
    }
   ],
   "source": [
    "df6 = pd.read_csv(r\"C:\\Users\\nikol\\Desktop\\Python\\statsmodels\\B-R@150bar.csv\")\n",
    "df6.head()"
   ]
  },
  {
   "cell_type": "code",
   "execution_count": 52,
   "id": "92ceea4a-70d1-4f6b-ad4f-bef28eab08e6",
   "metadata": {},
   "outputs": [
    {
     "data": {
      "image/png": "[encoded data removed]",
      "text/plain": [
       "<Figure size 1000x600 with 1 Axes>"
      ]
     },
     "metadata": {},
     "output_type": "display_data"
    }
   ],
   "source": [
    "width = 10\n",
    "height = 6\n",
    "plt.figure(figsize=(width, height))\n",
    "\n",
    "plt.xlabel(\"DP(atm)\", fontsize = 10)\n",
    "plt.ylabel(\"$K_{w}(mD)$\", fontsize = 10)\n",
    "plt.title(\"Permeability of water under 150 bar of overburden pressure\", fontsize = 12)\n",
    "\n",
    "plt.scatter(df5[\"DP(atm)\"], df5[\"Kw(mD)\"], c =\"red\", label=\"experimental data\")\n",
    "plt.plot(df6[\"DP(atm)\"], df6[\"Kw(mD)\"], label=\"Buckingham-Reiner\")\n",
    "plt.legend();"
   ]
  },
  {
   "cell_type": "markdown",
   "id": "140a7ec5-a0ea-41d8-888f-92010e3d269f",
   "metadata": {},
   "source": [
    "<b>\n",
    "As it is apparent from the figure, the experimental data are in close vicinity to the Buckingham-Reiner line. Finally, it is important to be noted, that the corrected air permeability and the maximum permeability of the plastic flow, under the same overburden pressure are very close to each other. So, it can be concluded, that they are consistent with the absolute permeability of the sandstone.\n",
    "</b>"
   ]
  }
 ],
 "metadata": {
  "kernelspec": {
   "display_name": "Python 3 (ipykernel)",
   "language": "python",
   "name": "python3"
  },
  "language_info": {
   "codemirror_mode": {
    "name": "ipython",
    "version": 3
   },
   "file_extension": ".py",
   "mimetype": "text/x-python",
   "name": "python",
   "nbconvert_exporter": "python",
   "pygments_lexer": "ipython3",
   "version": "3.9.13"
  },
  "toc-showmarkdowntxt": false
 },
 "nbformat": 4,
 "nbformat_minor": 5
}
